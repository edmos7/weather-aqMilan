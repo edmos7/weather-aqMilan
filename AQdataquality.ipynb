{
 "cells": [
  {
   "cell_type": "markdown",
   "metadata": {},
   "source": [
    "### Air Quality data - data quality assessment\n",
    "\n",
    "For our specific use (historical analysis, ML model training), the DQ dimensions of interest are completeness, accuracy and consistency.\n",
    "\n",
    "We are willing to discard timeliness and currency, as for our purpose we prefer having verified data that takes a little longer to get(low currency), and because we are not in a particular hurry to get new values(relaxed timeliness).\n",
    "\n",
    "Therefore we deem the tradeoff between these dimensions as most useful for our project."
   ]
  },
  {
   "cell_type": "code",
   "execution_count": 1,
   "metadata": {},
   "outputs": [],
   "source": [
    "import pandas as pd"
   ]
  },
  {
   "cell_type": "code",
   "execution_count": 2,
   "metadata": {},
   "outputs": [],
   "source": [
    "aq_data = pd.read_csv('./AQ_APIdata_localtime.csv')"
   ]
  },
  {
   "cell_type": "code",
   "execution_count": 3,
   "metadata": {},
   "outputs": [
    {
     "data": {
      "text/html": [
       "<div>\n",
       "<style scoped>\n",
       "    .dataframe tbody tr th:only-of-type {\n",
       "        vertical-align: middle;\n",
       "    }\n",
       "\n",
       "    .dataframe tbody tr th {\n",
       "        vertical-align: top;\n",
       "    }\n",
       "\n",
       "    .dataframe thead th {\n",
       "        text-align: right;\n",
       "    }\n",
       "</style>\n",
       "<table border=\"1\" class=\"dataframe\">\n",
       "  <thead>\n",
       "    <tr style=\"text-align: right;\">\n",
       "      <th></th>\n",
       "      <th>Unnamed: 0</th>\n",
       "      <th>pm10</th>\n",
       "      <th>pm2_5</th>\n",
       "      <th>nitrogen_dioxide</th>\n",
       "      <th>sulphur_dioxide</th>\n",
       "      <th>ozone</th>\n",
       "      <th>localtime</th>\n",
       "    </tr>\n",
       "  </thead>\n",
       "  <tbody>\n",
       "    <tr>\n",
       "      <th>0</th>\n",
       "      <td>0</td>\n",
       "      <td>85.9</td>\n",
       "      <td>76.6</td>\n",
       "      <td>38.5</td>\n",
       "      <td>4.5</td>\n",
       "      <td>2.0</td>\n",
       "      <td>2019-12-31 01:00:00</td>\n",
       "    </tr>\n",
       "    <tr>\n",
       "      <th>1</th>\n",
       "      <td>1</td>\n",
       "      <td>84.5</td>\n",
       "      <td>76.9</td>\n",
       "      <td>35.2</td>\n",
       "      <td>4.9</td>\n",
       "      <td>4.0</td>\n",
       "      <td>2019-12-31 02:00:00</td>\n",
       "    </tr>\n",
       "    <tr>\n",
       "      <th>2</th>\n",
       "      <td>2</td>\n",
       "      <td>83.0</td>\n",
       "      <td>76.4</td>\n",
       "      <td>35.1</td>\n",
       "      <td>5.1</td>\n",
       "      <td>5.0</td>\n",
       "      <td>2019-12-31 03:00:00</td>\n",
       "    </tr>\n",
       "    <tr>\n",
       "      <th>3</th>\n",
       "      <td>3</td>\n",
       "      <td>80.7</td>\n",
       "      <td>74.9</td>\n",
       "      <td>33.5</td>\n",
       "      <td>4.8</td>\n",
       "      <td>2.0</td>\n",
       "      <td>2019-12-31 04:00:00</td>\n",
       "    </tr>\n",
       "    <tr>\n",
       "      <th>4</th>\n",
       "      <td>4</td>\n",
       "      <td>77.6</td>\n",
       "      <td>73.1</td>\n",
       "      <td>29.6</td>\n",
       "      <td>3.9</td>\n",
       "      <td>3.0</td>\n",
       "      <td>2019-12-31 05:00:00</td>\n",
       "    </tr>\n",
       "    <tr>\n",
       "      <th>...</th>\n",
       "      <td>...</td>\n",
       "      <td>...</td>\n",
       "      <td>...</td>\n",
       "      <td>...</td>\n",
       "      <td>...</td>\n",
       "      <td>...</td>\n",
       "      <td>...</td>\n",
       "    </tr>\n",
       "    <tr>\n",
       "      <th>35082</th>\n",
       "      <td>35082</td>\n",
       "      <td>35.9</td>\n",
       "      <td>33.6</td>\n",
       "      <td>26.4</td>\n",
       "      <td>1.8</td>\n",
       "      <td>7.0</td>\n",
       "      <td>2023-12-31 19:00:00</td>\n",
       "    </tr>\n",
       "    <tr>\n",
       "      <th>35083</th>\n",
       "      <td>35083</td>\n",
       "      <td>38.1</td>\n",
       "      <td>31.8</td>\n",
       "      <td>27.2</td>\n",
       "      <td>2.0</td>\n",
       "      <td>2.0</td>\n",
       "      <td>2023-12-31 20:00:00</td>\n",
       "    </tr>\n",
       "    <tr>\n",
       "      <th>35084</th>\n",
       "      <td>35084</td>\n",
       "      <td>32.1</td>\n",
       "      <td>29.4</td>\n",
       "      <td>31.0</td>\n",
       "      <td>2.0</td>\n",
       "      <td>1.0</td>\n",
       "      <td>2023-12-31 21:00:00</td>\n",
       "    </tr>\n",
       "    <tr>\n",
       "      <th>35085</th>\n",
       "      <td>35085</td>\n",
       "      <td>34.6</td>\n",
       "      <td>30.6</td>\n",
       "      <td>32.2</td>\n",
       "      <td>2.2</td>\n",
       "      <td>1.0</td>\n",
       "      <td>2023-12-31 22:00:00</td>\n",
       "    </tr>\n",
       "    <tr>\n",
       "      <th>35086</th>\n",
       "      <td>35086</td>\n",
       "      <td>35.1</td>\n",
       "      <td>27.8</td>\n",
       "      <td>28.4</td>\n",
       "      <td>2.2</td>\n",
       "      <td>1.0</td>\n",
       "      <td>2023-12-31 23:00:00</td>\n",
       "    </tr>\n",
       "  </tbody>\n",
       "</table>\n",
       "<p>35087 rows × 7 columns</p>\n",
       "</div>"
      ],
      "text/plain": [
       "       Unnamed: 0  pm10  pm2_5  nitrogen_dioxide  sulphur_dioxide  ozone  \\\n",
       "0               0  85.9   76.6              38.5              4.5    2.0   \n",
       "1               1  84.5   76.9              35.2              4.9    4.0   \n",
       "2               2  83.0   76.4              35.1              5.1    5.0   \n",
       "3               3  80.7   74.9              33.5              4.8    2.0   \n",
       "4               4  77.6   73.1              29.6              3.9    3.0   \n",
       "...           ...   ...    ...               ...              ...    ...   \n",
       "35082       35082  35.9   33.6              26.4              1.8    7.0   \n",
       "35083       35083  38.1   31.8              27.2              2.0    2.0   \n",
       "35084       35084  32.1   29.4              31.0              2.0    1.0   \n",
       "35085       35085  34.6   30.6              32.2              2.2    1.0   \n",
       "35086       35086  35.1   27.8              28.4              2.2    1.0   \n",
       "\n",
       "                 localtime  \n",
       "0      2019-12-31 01:00:00  \n",
       "1      2019-12-31 02:00:00  \n",
       "2      2019-12-31 03:00:00  \n",
       "3      2019-12-31 04:00:00  \n",
       "4      2019-12-31 05:00:00  \n",
       "...                    ...  \n",
       "35082  2023-12-31 19:00:00  \n",
       "35083  2023-12-31 20:00:00  \n",
       "35084  2023-12-31 21:00:00  \n",
       "35085  2023-12-31 22:00:00  \n",
       "35086  2023-12-31 23:00:00  \n",
       "\n",
       "[35087 rows x 7 columns]"
      ]
     },
     "metadata": {},
     "output_type": "display_data"
    }
   ],
   "source": [
    "display(aq_data)"
   ]
  },
  {
   "cell_type": "markdown",
   "metadata": {},
   "source": [
    "#### Syntactic Accuracy"
   ]
  },
  {
   "cell_type": "markdown",
   "metadata": {},
   "source": [
    "First, we want to evaluate syntactic accuracy of pollutant values, to do so we:\n",
    "- Take the lowest and highest possible values from the European Environment Agency's table relative to EAQI level as a range of reference.\n",
    "    - Ranges of reference can change with respect to pollutants(minimum is always zero)\n",
    "- Evaluate if any rows in the dataset exceed these thresholds\n",
    "\n",
    "Unfortunately there is no clear way to measure semantic accuracy, for that we will have to trust the data providers."
   ]
  },
  {
   "cell_type": "code",
   "execution_count": 4,
   "metadata": {},
   "outputs": [],
   "source": [
    "def checkRangeOfReference_max(pollutant,maximum,data):\n",
    "    print(\"For \"+pollutant+\" :\")\n",
    "    #This will return the number of rows in the dataset where values exceed the maximum\n",
    "    return data[data[pollutant] > maximum].shape[0]"
   ]
  },
  {
   "cell_type": "code",
   "execution_count": 5,
   "metadata": {},
   "outputs": [],
   "source": [
    "pollutants = ['nitrogen_dioxide','ozone',\"sulphur_dioxide\",'pm2_5','pm10']"
   ]
  },
  {
   "cell_type": "markdown",
   "metadata": {},
   "source": [
    "Info on thresholds and max/mins is at: https://airindex.eea.europa.eu/AQI/index.html#"
   ]
  },
  {
   "cell_type": "code",
   "execution_count": 6,
   "metadata": {},
   "outputs": [],
   "source": [
    "maxes = {\n",
    "    'nitrogen_dioxide': 1000,\n",
    "    'ozone': 800,\n",
    "    'sulphur_dioxide': 1250,\n",
    "    'pm2_5': 800,\n",
    "    'pm10': 1200\n",
    "}"
   ]
  },
  {
   "cell_type": "code",
   "execution_count": 7,
   "metadata": {},
   "outputs": [
    {
     "name": "stdout",
     "output_type": "stream",
     "text": [
      "For nitrogen_dioxide :\n",
      "0\n",
      "For ozone :\n",
      "0\n",
      "For sulphur_dioxide :\n",
      "0\n",
      "For pm2_5 :\n",
      "0\n",
      "For pm10 :\n",
      "0\n"
     ]
    }
   ],
   "source": [
    "for pollutant in pollutants:\n",
    "    print(checkRangeOfReference_max(pollutant,maxes[pollutant],aq_data))"
   ]
  },
  {
   "cell_type": "markdown",
   "metadata": {},
   "source": [
    "Let's do the same for the minimum"
   ]
  },
  {
   "cell_type": "code",
   "execution_count": 8,
   "metadata": {},
   "outputs": [],
   "source": [
    "def checkRangeOfReference_min(pollutant,minimum,data):\n",
    "    print(\"For \"+pollutant+\" :\")\n",
    "    #This will return the number of rows in the dataset where values are below the minimum\n",
    "    return data[data[pollutant] < minimum].shape[0]"
   ]
  },
  {
   "cell_type": "code",
   "execution_count": 9,
   "metadata": {},
   "outputs": [
    {
     "name": "stdout",
     "output_type": "stream",
     "text": [
      "For nitrogen_dioxide :\n",
      "0\n",
      "For ozone :\n",
      "0\n",
      "For sulphur_dioxide :\n",
      "0\n",
      "For pm2_5 :\n",
      "0\n",
      "For pm10 :\n",
      "0\n"
     ]
    }
   ],
   "source": [
    "for pollutant in pollutants:\n",
    "    print(checkRangeOfReference_min(pollutant,0,aq_data))"
   ]
  },
  {
   "cell_type": "markdown",
   "metadata": {},
   "source": [
    "### Completeness"
   ]
  },
  {
   "cell_type": "markdown",
   "metadata": {},
   "source": [
    "We plan to verify completeness by:\n",
    "- Evaluating Row completeness\n",
    "- Evaluating Column completeness\n",
    "- Evaluating Dataset completeness\n",
    "- Evaluating Object completeness by verifying the number of days between time interval and number of rows"
   ]
  },
  {
   "cell_type": "code",
   "execution_count": 10,
   "metadata": {},
   "outputs": [
    {
     "data": {
      "text/plain": [
       "Unnamed: 0          0\n",
       "pm10                0\n",
       "pm2_5               0\n",
       "nitrogen_dioxide    0\n",
       "sulphur_dioxide     0\n",
       "ozone               0\n",
       "localtime           0\n",
       "dtype: int64"
      ]
     },
     "execution_count": 10,
     "metadata": {},
     "output_type": "execute_result"
    }
   ],
   "source": [
    "# Check number of missing values by column\n",
    "aq_data.isna().sum()"
   ]
  },
  {
   "cell_type": "markdown",
   "metadata": {},
   "source": [
    "Given there are no missing values, we can skip te first 3 metrics and mark them as satisfied.\n",
    "\n",
    "Then, for Object Completeness"
   ]
  },
  {
   "cell_type": "code",
   "execution_count": 11,
   "metadata": {},
   "outputs": [
    {
     "name": "stdout",
     "output_type": "stream",
     "text": [
      "For a complete object representation we should have 35064 rows in the dataset\n"
     ]
    }
   ],
   "source": [
    "# Compute number of days between 31st December 2019 and 31st December 2023\n",
    "import datetime\n",
    "#Compute the difference between the two dates, but include them in counting number of days\n",
    "delta = datetime.date(2023,12,31) - datetime.date(2019,12,31)\n",
    "# since data is in hourly granularity we should have 24 rows per day\n",
    "print(\"For a complete object representation we should have \"+str(delta.days*24)+\" rows in the dataset\")"
   ]
  },
  {
   "cell_type": "code",
   "execution_count": 12,
   "metadata": {},
   "outputs": [
    {
     "data": {
      "text/plain": [
       "(35087, 7)"
      ]
     },
     "execution_count": 12,
     "metadata": {},
     "output_type": "execute_result"
    }
   ],
   "source": [
    "aq_data.shape"
   ]
  },
  {
   "cell_type": "markdown",
   "metadata": {},
   "source": [
    "We have 23 bonus hours in the dataset as we moved to local time and have clipped the first hour of 2024, but keep in mind that in aggregation step we will have to compute rolling averages(thats why we kept first rows)\n",
    "\n",
    "With that said, object completeness could be said to be satisfied(first rolling average will be 23hrs + first hour of 2020, so we don't have leakage of datetime shift to relevant records)."
   ]
  },
  {
   "cell_type": "code",
   "execution_count": 13,
   "metadata": {},
   "outputs": [
    {
     "data": {
      "text/plain": [
       "Unnamed: 0          25\n",
       "pm10                25\n",
       "pm2_5               25\n",
       "nitrogen_dioxide    25\n",
       "sulphur_dioxide     25\n",
       "ozone               25\n",
       "localtime           25\n",
       "dtype: int64"
      ]
     },
     "execution_count": 13,
     "metadata": {},
     "output_type": "execute_result"
    }
   ],
   "source": [
    "# Checking whether one day appears more than 24 times in the dataset\n",
    "aq_data[\"date\"] = pd.to_datetime(aq_data[\"localtime\"]).dt.date\n",
    "aq_data.groupby('date').count().sort_values('localtime',ascending=False).max()"
   ]
  },
  {
   "cell_type": "code",
   "execution_count": 14,
   "metadata": {},
   "outputs": [
    {
     "data": {
      "text/html": [
       "<div>\n",
       "<style scoped>\n",
       "    .dataframe tbody tr th:only-of-type {\n",
       "        vertical-align: middle;\n",
       "    }\n",
       "\n",
       "    .dataframe tbody tr th {\n",
       "        vertical-align: top;\n",
       "    }\n",
       "\n",
       "    .dataframe thead th {\n",
       "        text-align: right;\n",
       "    }\n",
       "</style>\n",
       "<table border=\"1\" class=\"dataframe\">\n",
       "  <thead>\n",
       "    <tr style=\"text-align: right;\">\n",
       "      <th></th>\n",
       "      <th>Unnamed: 0</th>\n",
       "      <th>pm10</th>\n",
       "      <th>pm2_5</th>\n",
       "      <th>nitrogen_dioxide</th>\n",
       "      <th>sulphur_dioxide</th>\n",
       "      <th>ozone</th>\n",
       "      <th>localtime</th>\n",
       "    </tr>\n",
       "    <tr>\n",
       "      <th>date</th>\n",
       "      <th></th>\n",
       "      <th></th>\n",
       "      <th></th>\n",
       "      <th></th>\n",
       "      <th></th>\n",
       "      <th></th>\n",
       "      <th></th>\n",
       "    </tr>\n",
       "  </thead>\n",
       "  <tbody>\n",
       "    <tr>\n",
       "      <th>2020-10-25</th>\n",
       "      <td>25</td>\n",
       "      <td>25</td>\n",
       "      <td>25</td>\n",
       "      <td>25</td>\n",
       "      <td>25</td>\n",
       "      <td>25</td>\n",
       "      <td>25</td>\n",
       "    </tr>\n",
       "    <tr>\n",
       "      <th>2023-10-29</th>\n",
       "      <td>25</td>\n",
       "      <td>25</td>\n",
       "      <td>25</td>\n",
       "      <td>25</td>\n",
       "      <td>25</td>\n",
       "      <td>25</td>\n",
       "      <td>25</td>\n",
       "    </tr>\n",
       "    <tr>\n",
       "      <th>2022-10-30</th>\n",
       "      <td>25</td>\n",
       "      <td>25</td>\n",
       "      <td>25</td>\n",
       "      <td>25</td>\n",
       "      <td>25</td>\n",
       "      <td>25</td>\n",
       "      <td>25</td>\n",
       "    </tr>\n",
       "    <tr>\n",
       "      <th>2021-10-31</th>\n",
       "      <td>25</td>\n",
       "      <td>25</td>\n",
       "      <td>25</td>\n",
       "      <td>25</td>\n",
       "      <td>25</td>\n",
       "      <td>25</td>\n",
       "      <td>25</td>\n",
       "    </tr>\n",
       "    <tr>\n",
       "      <th>2022-08-30</th>\n",
       "      <td>24</td>\n",
       "      <td>24</td>\n",
       "      <td>24</td>\n",
       "      <td>24</td>\n",
       "      <td>24</td>\n",
       "      <td>24</td>\n",
       "      <td>24</td>\n",
       "    </tr>\n",
       "  </tbody>\n",
       "</table>\n",
       "</div>"
      ],
      "text/plain": [
       "            Unnamed: 0  pm10  pm2_5  nitrogen_dioxide  sulphur_dioxide  ozone  \\\n",
       "date                                                                            \n",
       "2020-10-25          25    25     25                25               25     25   \n",
       "2023-10-29          25    25     25                25               25     25   \n",
       "2022-10-30          25    25     25                25               25     25   \n",
       "2021-10-31          25    25     25                25               25     25   \n",
       "2022-08-30          24    24     24                24               24     24   \n",
       "\n",
       "            localtime  \n",
       "date                   \n",
       "2020-10-25         25  \n",
       "2023-10-29         25  \n",
       "2022-10-30         25  \n",
       "2021-10-31         25  \n",
       "2022-08-30         24  "
      ]
     },
     "execution_count": 14,
     "metadata": {},
     "output_type": "execute_result"
    }
   ],
   "source": [
    "#find the dates that appear more than 24 times\n",
    "aq_data.groupby('date').count().sort_values('localtime',ascending=False).head()"
   ]
  },
  {
   "cell_type": "markdown",
   "metadata": {},
   "source": [
    "The dates appearing 25 times correspond to the days where CEST switched back to CET, and clock were set back by 1h, resulting in 25hr days\n",
    "\n",
    "Other than those, others have 24 at most"
   ]
  },
  {
   "cell_type": "code",
   "execution_count": 15,
   "metadata": {},
   "outputs": [
    {
     "data": {
      "text/html": [
       "<div>\n",
       "<style scoped>\n",
       "    .dataframe tbody tr th:only-of-type {\n",
       "        vertical-align: middle;\n",
       "    }\n",
       "\n",
       "    .dataframe tbody tr th {\n",
       "        vertical-align: top;\n",
       "    }\n",
       "\n",
       "    .dataframe thead th {\n",
       "        text-align: right;\n",
       "    }\n",
       "</style>\n",
       "<table border=\"1\" class=\"dataframe\">\n",
       "  <thead>\n",
       "    <tr style=\"text-align: right;\">\n",
       "      <th></th>\n",
       "      <th>Unnamed: 0</th>\n",
       "      <th>pm10</th>\n",
       "      <th>pm2_5</th>\n",
       "      <th>nitrogen_dioxide</th>\n",
       "      <th>sulphur_dioxide</th>\n",
       "      <th>ozone</th>\n",
       "      <th>localtime</th>\n",
       "    </tr>\n",
       "    <tr>\n",
       "      <th>date</th>\n",
       "      <th></th>\n",
       "      <th></th>\n",
       "      <th></th>\n",
       "      <th></th>\n",
       "      <th></th>\n",
       "      <th></th>\n",
       "      <th></th>\n",
       "    </tr>\n",
       "  </thead>\n",
       "  <tbody>\n",
       "    <tr>\n",
       "      <th>2019-12-31</th>\n",
       "      <td>23</td>\n",
       "      <td>23</td>\n",
       "      <td>23</td>\n",
       "      <td>23</td>\n",
       "      <td>23</td>\n",
       "      <td>23</td>\n",
       "      <td>23</td>\n",
       "    </tr>\n",
       "    <tr>\n",
       "      <th>2020-03-29</th>\n",
       "      <td>23</td>\n",
       "      <td>23</td>\n",
       "      <td>23</td>\n",
       "      <td>23</td>\n",
       "      <td>23</td>\n",
       "      <td>23</td>\n",
       "      <td>23</td>\n",
       "    </tr>\n",
       "    <tr>\n",
       "      <th>2021-03-28</th>\n",
       "      <td>23</td>\n",
       "      <td>23</td>\n",
       "      <td>23</td>\n",
       "      <td>23</td>\n",
       "      <td>23</td>\n",
       "      <td>23</td>\n",
       "      <td>23</td>\n",
       "    </tr>\n",
       "    <tr>\n",
       "      <th>2022-03-27</th>\n",
       "      <td>23</td>\n",
       "      <td>23</td>\n",
       "      <td>23</td>\n",
       "      <td>23</td>\n",
       "      <td>23</td>\n",
       "      <td>23</td>\n",
       "      <td>23</td>\n",
       "    </tr>\n",
       "    <tr>\n",
       "      <th>2023-03-26</th>\n",
       "      <td>23</td>\n",
       "      <td>23</td>\n",
       "      <td>23</td>\n",
       "      <td>23</td>\n",
       "      <td>23</td>\n",
       "      <td>23</td>\n",
       "      <td>23</td>\n",
       "    </tr>\n",
       "    <tr>\n",
       "      <th>2022-09-05</th>\n",
       "      <td>24</td>\n",
       "      <td>24</td>\n",
       "      <td>24</td>\n",
       "      <td>24</td>\n",
       "      <td>24</td>\n",
       "      <td>24</td>\n",
       "      <td>24</td>\n",
       "    </tr>\n",
       "    <tr>\n",
       "      <th>2022-09-04</th>\n",
       "      <td>24</td>\n",
       "      <td>24</td>\n",
       "      <td>24</td>\n",
       "      <td>24</td>\n",
       "      <td>24</td>\n",
       "      <td>24</td>\n",
       "      <td>24</td>\n",
       "    </tr>\n",
       "    <tr>\n",
       "      <th>2022-09-03</th>\n",
       "      <td>24</td>\n",
       "      <td>24</td>\n",
       "      <td>24</td>\n",
       "      <td>24</td>\n",
       "      <td>24</td>\n",
       "      <td>24</td>\n",
       "      <td>24</td>\n",
       "    </tr>\n",
       "    <tr>\n",
       "      <th>2022-09-02</th>\n",
       "      <td>24</td>\n",
       "      <td>24</td>\n",
       "      <td>24</td>\n",
       "      <td>24</td>\n",
       "      <td>24</td>\n",
       "      <td>24</td>\n",
       "      <td>24</td>\n",
       "    </tr>\n",
       "    <tr>\n",
       "      <th>2022-09-01</th>\n",
       "      <td>24</td>\n",
       "      <td>24</td>\n",
       "      <td>24</td>\n",
       "      <td>24</td>\n",
       "      <td>24</td>\n",
       "      <td>24</td>\n",
       "      <td>24</td>\n",
       "    </tr>\n",
       "  </tbody>\n",
       "</table>\n",
       "</div>"
      ],
      "text/plain": [
       "            Unnamed: 0  pm10  pm2_5  nitrogen_dioxide  sulphur_dioxide  ozone  \\\n",
       "date                                                                            \n",
       "2019-12-31          23    23     23                23               23     23   \n",
       "2020-03-29          23    23     23                23               23     23   \n",
       "2021-03-28          23    23     23                23               23     23   \n",
       "2022-03-27          23    23     23                23               23     23   \n",
       "2023-03-26          23    23     23                23               23     23   \n",
       "2022-09-05          24    24     24                24               24     24   \n",
       "2022-09-04          24    24     24                24               24     24   \n",
       "2022-09-03          24    24     24                24               24     24   \n",
       "2022-09-02          24    24     24                24               24     24   \n",
       "2022-09-01          24    24     24                24               24     24   \n",
       "\n",
       "            localtime  \n",
       "date                   \n",
       "2019-12-31         23  \n",
       "2020-03-29         23  \n",
       "2021-03-28         23  \n",
       "2022-03-27         23  \n",
       "2023-03-26         23  \n",
       "2022-09-05         24  \n",
       "2022-09-04         24  \n",
       "2022-09-03         24  \n",
       "2022-09-02         24  \n",
       "2022-09-01         24  "
      ]
     },
     "execution_count": 15,
     "metadata": {},
     "output_type": "execute_result"
    }
   ],
   "source": [
    "aq_data.groupby('date').count().sort_values('localtime',ascending=True)[:10]"
   ]
  },
  {
   "cell_type": "markdown",
   "metadata": {},
   "source": [
    "The same happens for days where CET was switched to CEST (lost an hour) and for 31st of Dec 2019 as we lost a row by moving to localtime"
   ]
  },
  {
   "cell_type": "markdown",
   "metadata": {},
   "source": [
    "### Consistency\n",
    "\n",
    "There are two ways we can evaluate consistency:\n",
    "- Are values intended to have a relationship with other values consistent in said relationship? In other words, given values are assumed to refer to a certain hour of a certain day of a certain year, how many of them are actually consistent in doing so? Hard to verify...\n",
    "- Are data entries relating to the same type of information (datetimes/timestamps), consistent in upholding the desired format?\n",
    "\n",
    "We can surely devise a check for the second type of consistency"
   ]
  },
  {
   "cell_type": "code",
   "execution_count": 16,
   "metadata": {},
   "outputs": [],
   "source": [
    "import re\n",
    "\n",
    "# Define the regex pattern of our apparent format (yyyy-mm-dd hh:mm:ss)\n",
    "pattern = r\"^(2019|202[0-3])-(0[1-9]|1[0-2])-(0[1-9]|[12]\\d|3[01]) ([01]\\d|2[0-3]):00:00$\"\n",
    "\n",
    "# Check the number of valid entries in the 'time' column\n",
    "valid_entries = aq_data['localtime'].apply(lambda x: bool(re.match(pattern, x)))\n",
    "\n",
    "# Count how many rows match the pattern\n",
    "num_valid_entries = valid_entries.sum()"
   ]
  },
  {
   "cell_type": "code",
   "execution_count": 17,
   "metadata": {},
   "outputs": [
    {
     "name": "stdout",
     "output_type": "stream",
     "text": [
      "Number of rows that don't respect our datetime format : 0\n"
     ]
    }
   ],
   "source": [
    "print(\"Number of rows that don't respect our datetime format :\", aq_data.shape[0] - num_valid_entries)"
   ]
  },
  {
   "cell_type": "markdown",
   "metadata": {},
   "source": [
    "In conclusion, to the extent possible, we have verified that our data satisfies metrics for our data quality dimensions of interest"
   ]
  }
 ],
 "metadata": {
  "kernelspec": {
   "display_name": "Python 3",
   "language": "python",
   "name": "python3"
  },
  "language_info": {
   "codemirror_mode": {
    "name": "ipython",
    "version": 3
   },
   "file_extension": ".py",
   "mimetype": "text/x-python",
   "name": "python",
   "nbconvert_exporter": "python",
   "pygments_lexer": "ipython3",
   "version": "3.11.9"
  }
 },
 "nbformat": 4,
 "nbformat_minor": 2
}
